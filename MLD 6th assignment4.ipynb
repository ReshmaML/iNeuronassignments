{
 "cells": [
  {
   "cell_type": "markdown",
   "metadata": {},
   "source": [
    "1.1 Write a Python Program(with class concepts) to find the area of the triangle using the below\n",
    "formula.\n",
    "area = (s*(s-a)*(s-b)*(s-c)) ** 0.5\n",
    "Function to take the length of the sides of triangle from user should be defined in the parent\n",
    "class and function to calculate the area should be defined in subclass."
   ]
  },
  {
   "cell_type": "code",
   "execution_count": 3,
   "metadata": {},
   "outputs": [
    {
     "name": "stdout",
     "output_type": "stream",
     "text": [
      "74.83314773547883\n"
     ]
    }
   ],
   "source": [
    "'''I tried the below code but it didnt work as expected so took help from support team\n",
    "#parent class\n",
    "class get_length:\n",
    "\n",
    "def __init__(self,x,y,z):\n",
    "self.x = input('Side 1:')\n",
    "self.y = input('Side 2:')\n",
    "self.z = input('Side 3:')\n",
    "#sub class\n",
    "class cal_area(get_length):\n",
    "def __init__(self,*args):\n",
    "super(get_length, self).__init__(*args)\n",
    "\n",
    "def cal_s(self):\n",
    "s = (int(self.x)+int(self.y)+int(self.z)/2\n",
    "\n",
    "'''\n",
    "class get_no_of_sides:\n",
    "\n",
    "    def __init__(self, n):\n",
    "        self.number_of_sides = n\n",
    "    \n",
    "class calc_area(get_no_of_sides):\n",
    "\n",
    "    def __init__(self, lengths_of_sides):\n",
    "        get_no_of_sides.__init__(self, 3)\n",
    "        self.lengths_of_sides = lengths_of_sides  \n",
    "\n",
    "    def get_area(self):\n",
    "        a, b, c = self.lengths_of_sides\n",
    "\n",
    "        s = (a + b + c) / 2\n",
    "        return (s*(s-a)*(s-b)*(s-c)) ** 0.5\n",
    "    \n",
    "\n",
    "tri = calc_area([13,12, 15])\n",
    "print(tri.get_area())\n"
   ]
  },
  {
   "cell_type": "markdown",
   "metadata": {},
   "source": [
    "1.2 Write a function filter_long_words() that takes a list of words and an integer n and returns\n",
    "the list of words that are longer than n."
   ]
  },
  {
   "cell_type": "code",
   "execution_count": 103,
   "metadata": {},
   "outputs": [
    {
     "name": "stdout",
     "output_type": "stream",
     "text": [
      "oldlist\n",
      "hi\n",
      "how\n"
     ]
    },
    {
     "data": {
      "text/plain": [
       "['oldlist', 'how']"
      ]
     },
     "execution_count": 103,
     "metadata": {},
     "output_type": "execute_result"
    }
   ],
   "source": [
    "def filter_long_words(newlist,n):\n",
    "    lst=[]\n",
    "    for i in newlist:\n",
    "        print(i)\n",
    "        if len(i) >= n:\n",
    "            lst.append(i)\n",
    "    return lst\n",
    "            \n",
    "\n",
    "filter_long_words(['oldlist','hi','how'],3)"
   ]
  },
  {
   "cell_type": "markdown",
   "metadata": {},
   "source": [
    "2.1 Write a Python program using function concept that maps list of words into a list of integers\n",
    "representing the lengths of the corresponding words.\n",
    "Hint: If a list [ ab,cde,erty] is passed on to the python function output should come as [2,3,4]\n",
    "Here 2,3 and 4 are the lengths of the words in the list."
   ]
  },
  {
   "cell_type": "code",
   "execution_count": 105,
   "metadata": {},
   "outputs": [
    {
     "data": {
      "text/plain": [
       "[7, 2, 3]"
      ]
     },
     "execution_count": 105,
     "metadata": {},
     "output_type": "execute_result"
    }
   ],
   "source": [
    "def len_of_words(str_list):\n",
    "    num_list =[]\n",
    "    for i in str_list:\n",
    "        num_list.append(len(i))\n",
    "    return num_list\n",
    "                        \n",
    "len_of_words(['oldlist','hi','how'])"
   ]
  },
  {
   "cell_type": "markdown",
   "metadata": {},
   "source": [
    "2.2 Write a Python function which takes a character (i.e. a string of length 1) and returns True if\n",
    "it is a vowel, False otherwise."
   ]
  },
  {
   "cell_type": "code",
   "execution_count": 115,
   "metadata": {},
   "outputs": [
    {
     "data": {
      "text/plain": [
       "True"
      ]
     },
     "execution_count": 115,
     "metadata": {},
     "output_type": "execute_result"
    }
   ],
   "source": [
    "def is_vowel(a):\n",
    "    if a in ('a','e','i','o','u','A','E','I','O','U'):\n",
    "        return True\n",
    "    else:\n",
    "        return False\n",
    "    \n",
    "is_vowel('A')"
   ]
  }
 ],
 "metadata": {
  "kernelspec": {
   "display_name": "Python 3",
   "language": "python",
   "name": "python3"
  },
  "language_info": {
   "codemirror_mode": {
    "name": "ipython",
    "version": 3
   },
   "file_extension": ".py",
   "mimetype": "text/x-python",
   "name": "python",
   "nbconvert_exporter": "python",
   "pygments_lexer": "ipython3",
   "version": "3.7.3"
  }
 },
 "nbformat": 4,
 "nbformat_minor": 2
}
